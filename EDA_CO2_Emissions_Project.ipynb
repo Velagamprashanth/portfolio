{
 "cells": [
  {
   "cell_type": "markdown",
   "id": "61a28767",
   "metadata": {},
   "source": [
    "# 🌍 EDA on Global CO₂ Emissions (2019–2020)\n",
    "\n",
    "An exploratory data analysis project examining worldwide CO₂ emissions using a subset of data. This notebook includes trends, breakdowns by country, and sector-wise emissions."
   ]
  },
  {
   "cell_type": "code",
   "execution_count": null,
   "id": "d993ebf7",
   "metadata": {},
   "outputs": [],
   "source": [
    "import pandas as pd\n",
    "import matplotlib.pyplot as plt\n",
    "import seaborn as sns"
   ]
  },
  {
   "cell_type": "code",
   "execution_count": null,
   "id": "ec1443d3",
   "metadata": {},
   "outputs": [],
   "source": [
    "# Sample data for demonstration\n",
    "data = {\n",
    "    \"country\": [\"World\", \"World\", \"China\", \"China\", \"United States\", \"United States\"],\n",
    "    \"year\": [2019, 2020, 2019, 2020, 2019, 2020],\n",
    "    \"co2\": [36000, 34000, 10000, 9800, 5000, 4800],\n",
    "    \"co2_per_capita\": [4.7, 4.5, 7.1, 6.9, 15.5, 15.0],\n",
    "    \"coal_co2\": [12000, 11000, 7000, 6800, 1000, 900],\n",
    "    \"oil_co2\": [14000, 13000, 2000, 1900, 2500, 2400],\n",
    "    \"gas_co2\": [8000, 7500, 700, 680, 1200, 1150],\n",
    "    \"cement_co2\": [2000, 1800, 300, 290, 300, 280]\n",
    "}\n",
    "df = pd.DataFrame(data)\n",
    "df"
   ]
  },
  {
   "cell_type": "markdown",
   "id": "2e360566",
   "metadata": {},
   "source": [
    "## 📈 Global CO₂ Emissions Trend"
   ]
  },
  {
   "cell_type": "code",
   "execution_count": null,
   "id": "b1872d4a",
   "metadata": {},
   "outputs": [],
   "source": [
    "world_data = df[df[\"country\"] == \"World\"]\n",
    "plt.figure(figsize=(10, 5))\n",
    "sns.lineplot(data=world_data, x=\"year\", y=\"co2\", marker=\"o\")\n",
    "plt.title(\"Global CO₂ Emissions Trend (2019–2020)\")\n",
    "plt.xlabel(\"Year\")\n",
    "plt.ylabel(\"CO₂ Emissions (million tonnes)\")\n",
    "plt.grid(True)\n",
    "plt.tight_layout()\n",
    "plt.show()"
   ]
  },
  {
   "cell_type": "markdown",
   "id": "c92d508c",
   "metadata": {},
   "source": [
    "## 🧱 Sector-wise Emissions: United States"
   ]
  },
  {
   "cell_type": "code",
   "execution_count": null,
   "id": "2d1797ac",
   "metadata": {},
   "outputs": [],
   "source": [
    "usa = df[df['country'] == 'United States']\n",
    "usa_sectors = usa[['year', 'coal_co2', 'oil_co2', 'gas_co2', 'cement_co2']].set_index('year')\n",
    "usa_sectors.plot(kind='bar', stacked=True, figsize=(10, 6))\n",
    "plt.title('USA CO₂ Emissions by Sector (2019–2020)')\n",
    "plt.ylabel('Emissions')\n",
    "plt.xlabel('Year')\n",
    "plt.tight_layout()\n",
    "plt.show()"
   ]
  },
  {
   "cell_type": "markdown",
   "id": "e6499748",
   "metadata": {},
   "source": [
    "## 🧠 Key Insights\n",
    "- Global CO₂ emissions dropped from 2019 to 2020 due to the pandemic.\n",
    "- China leads in total emissions, followed by the United States.\n",
    "- The largest sources of CO₂ in the US are oil and gas sectors.\n",
    "- CO₂ per capita is highest in the United States among the three regions analyzed."
   ]
  }
 ],
 "metadata": {},
 "nbformat": 4,
 "nbformat_minor": 5
}
